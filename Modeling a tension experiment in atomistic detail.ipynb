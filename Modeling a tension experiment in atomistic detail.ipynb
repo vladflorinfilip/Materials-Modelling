{
 "cells": [
  {
   "cell_type": "markdown",
   "source": "# M3 Materials modelling: a tension experiment in atomistic detail\n## Part IB laboratory exercise\n\n2021, Engineering Laboratory, University of Cambridge, Prof. Gábor Csányi (gc121)",
   "metadata": {
    "slideshow": {
     "slide_type": "-"
    },
    "cell_id": "00000-64286bbe-bf4a-4067-9eaa-dffb44492a5f",
    "deepnote_cell_type": "markdown"
   }
  },
  {
   "cell_type": "markdown",
   "source": "![bar](./files/copper-bar-zoom.png)",
   "metadata": {
    "slideshow": {
     "slide_type": "-"
    },
    "cell_id": "00001-09797430-38ef-4ca9-9d78-2052a3e1d3a2",
    "deepnote_cell_type": "markdown"
   }
  },
  {
   "cell_type": "markdown",
   "source": "In this exercise you will learn how to model materials on the _atomic scale_, and use the model to investigate how metals respond under tensile stress. Simulating the response in such detail will allow you an insight into what happens on the smallest scales when a material is under load, how the Poisson ratio arises. At the end of the exrcise, you will see an example of how dislocations are generated and interact, which is the basis for the plastic response of the material. Large scale plasticity is of course more complicated, and depends on the interactions of an immense number of dislocations as well as grain boundaries and more rigid inclusions. \n\nIn the course of the exercise, you will:\n\n1. Create and manipulate atomic scale structural models of crystalline matter\n1. Learn how to compute simple elastic properties of single crystal copper (Cu)\n1. Observe a strain controlled tensile test simulation of a notched bar, and the nucleation of dislocations\n\nThis activity introduces you to _scientific computing_, the use of programming and numerical techniques to model, investigate and learn about a technical subject, in this case materials engineering. There is no extended programming required, and no significant software engineering skills introduced, beyond close reading of documentation. \n\n## Working on your own\n\nThis is a purely computational laboratory exercise, with no assigned laboratory time. You will be working on your own, but there is a forum on Moodle where you can get guidance and help if you have any technical questions or if you get stuck. It is monitored daily by demonstrators, especially between 2-3pm.\n\nThe [assigned times](https://deepnote.com/project/IB-Laboratory-M3-Materials-modelling-AqUdtvyXQVG1F2SCyP33lA/%2FM3_schedule_Lent.pdf) in the rota are for *marking*, and serve as __deadlines__. You are encouraged to not leave things to the last minute, and you can get marked up for this lab at the DPO helpdesk any time before the deadline assigned to your lab group. \n\n\n## Software Environment\n\nYou will be using a python package called [Atomic Simulation Environment](https://gitlab.com/ase/ase) (ASE), which you will need to download if you want to run this notebook on your own computer. It has excellent tutorials at its [documentation page](https://wiki.fysik.dtu.dk/ase/), but the first few exercises below will teach you many of the elements of ASE you will need for this project. If running on your own computer, also try to install the ```matscipy``` package (which needs a working C++ compiler), if that is successful your simulations will be much faster. \n\nThe entire exercise (appart from the optional extension) can be completed in Deepnote directly. All the dependancies are installed. If you want to use your own Python environment on your own computer such as [Anaconda](http://anaconda.org), this is also feasible, but requires the installation of a few packages. Deepnote also lets you install any additional desired pacakged. You can open a text terminal (console) to the virtual machine it is running on, so you can execute all the ! commands directly on the console. \n\nThe ```!pip install ase``` and ```!pip install matscipy``` commands also work in an ```anaconda``` Python console or a Jupyter notebook that is running on your own computer, or without the \"!\" in a normal command terminal. \n\n_Note: There are several files associated with this notebook, both images and python code (e.g. Morse.py), make sure they are in the same folder as this notebook._\n\n_There is also a Morse module inside ASE (under ```ase.calculators```), but that is not implemented correctly (at the time of writing), so make sure below that you import the one that is supplied here and saved in the current directory._\n\nPlease make sure all your results (eg. plots, code output) are visible before the marking session. This is much easier if you run a notebook rather than  individual scripts. \n\n##### Notes for various operating systems\n\n* On Mac OS, it is recommended that you do not work with the Python supplied by Apple, but get your own, e.g. Anaconda, or use Homebrew. \n\n* On Windows, you will need MS Visual C++ in order to use the matscipy package (MSVC++ version 14 for use with Python versions > 3.5). Windows is difficult from the point of view of scientific computing, and you may not be able to install matscipy in the end. The lab can be done without it. \n\n* If you are working on the Linux workstations in the Department,  see [this page](http://www-h.eng.cam.ac.uk/help/languages/python/pythonatcued.html) on how to install new Python packages for yourself.  \n\n## Software Engineering\n\nMuch of this lab is about the *application* of programming in order to model engineering problem, rather than learning new programming skills. Use the techniques that you learned in the [Part IA Lent Computing Exercise](http://cued-partia-flood-warning.readthedocs.io/en/latest/index.html), and review them before you start if necessary. In particular:\n\n- The first half of the exercise is to be done in this notebook right here.  \n- Please use Python 3 rather than earlier versions.\n- Keep to the good code documentation practices you learned in Part IA.\n\nIt will be assumed from now on that you know how to use these tools. \n\n\n## Materials and structural engineering\n\nSince the topic of this exercise is the response of matter to loading, it will be beneficial if you review the related concepts in the IA Materials and Structures courses, particularly on _stress_, _strain_, _bulk modulus_, _shear modulus_, _Poisson ratio_, and _dislocations_.",
   "metadata": {
    "slideshow": {
     "slide_type": "-"
    },
    "cell_id": "00002-363f8b13-af8f-4120-a939-5f9698a2afcf",
    "deepnote_cell_type": "markdown"
   }
  },
  {
   "cell_type": "markdown",
   "source": "## Learning objectives and assessment\n\n### Learning objectives\n\n\n#### Scientific Computing\n\n- Making connections between abstract concepts of elastic deformation and numerical representations in a compute model\n- Ability to calculate elastic properties of materials numerically using an atomistic model\n- Identifying atomic scale processes underlying plastic deformation via dislocation nucleation and glide \n\n#### Computer skills\n\n- Effective use of python programming, as developed in Part IA\n- Appropriate use of NumPy arrays, functions, Python classes, class members and member functions. \n\n\n### Assessment guidelines\n\nThe following criteria will be used in assessing your implementation. Markers will want to view your Notebook for the graphs, elasticity calculations and hear your interpretation of the results.\n\nYour Notebook should display an understanding of the basic aspects of materials engineering involved. Your results should have the correct units, plots have axes correctly labeled. \n\n#### Code\n\n- Your notebook and programs should execute without error.\n- Programs should be correct and achieve the specified deliverables.\n- Numerical results should be printed with notes on what they represent, and appropriate units. \n- Clarity and structure of the code implementations.\n- Re-use of functions and python objects where appropriate.\n- Documentation of your functions, and comments in the Notebook and standalone code to enhance readability\n",
   "metadata": {
    "cell_id": "00003-8bde23c1-d6f1-4dad-95d3-a2c43dc6f78a",
    "deepnote_cell_type": "markdown"
   }
  },
  {
   "cell_type": "markdown",
   "source": "## Deliverables and Deadlines\n\nThe rest of this notebook contains background information that you need to understand the exercise, bits of example code that teaches you how to use the ASE package, and __specific deliverables (marked in bold)__ that you need to present to the markers. ",
   "metadata": {
    "cell_id": "00004-ea2a43b7-66b5-4cd0-bf3d-b563efd2bd21",
    "deepnote_cell_type": "markdown"
   }
  },
  {
   "cell_type": "markdown",
   "source": "We start with basic usage of ASE, computation of the elastic properties of a single crystal of copper. Do the tasks right here in this notebook. Bring the completed notebook to the a marking session. Do the exercise in your own time, but make sure you get marked by the demonstrators in the DPO by your allocated deadline, which is given for your lab group in the rota. There is a list of marking dates and times [here](https://deepnote.com/project/IB-Laboratory-M3-Materials-modelling-AqUdtvyXQVG1F2SCyP33lA/%2FM3_schedule_Lent.pdf), but these are just the final deadlines, you can get marked ahead of time by emailing the demonstrators, found on the Moodle page. ",
   "metadata": {
    "cell_id": "00005-fc588546-2bb8-4902-a9a4-1cd5f73cf576",
    "deepnote_cell_type": "markdown"
   }
  },
  {
   "cell_type": "markdown",
   "source": "### Task 1\n\nYou are going to use a simple model to describe the interaction of atoms, called the \"Morse potential\", \nwhich assumes that atoms interact with each other pairwise, and the total potential energy of a collection of atoms is\n\n$$\nE_{total} = \\sum_{i \\textrm{\\textgreater} j} V_{M}(r_{ij})\n$$\n\nwhere the double sum runs over the indices of every pair of atoms (counting every pair only once), $r_{ij}$ is the distance between atoms $i$ and $j$, and the _interaction potential_ is given by\n\n$$\nV_{M}(r) = D \\left[e^{-2\\alpha (r-r_0))} - 2e^{-\\alpha (r-r_0))} \\right]\n$$\n\nThere are three adjustable parameters in this model. You can think of $D$ as fixing the energy scale of the model, $r_0$ as fixing the distance between neighbouring atoms, and $\\alpha$ as fixing the length scale over which the interaction between atoms decays (in inverse length units). \n\nIn the small scale world of atoms, it is convenient to measure energies in _electron Volts_ (eV), with 1 eV $\\approx 1.6 \\times 10^{-19}~$J, and distances in _Ångstroms_ (Å), with 1 Å = $10^{-10}~$m, and these are the intrinsic units of ASE. All other derived units follow from this, e.g. forces are in eV/Å, stresses are in eV/Å$^3$. ASE provides the constant ```GPa``` that can be used to convert pressures and stresses from eV/Å$^3$ into GPa units. ",
   "metadata": {
    "cell_id": "00006-41d271ce-a473-4132-89cf-ad23b492452b",
    "deepnote_cell_type": "markdown"
   }
  },
  {
   "cell_type": "markdown",
   "source": "Here is how to create an object that represents just two copper atoms with a distance 2.5 Å between them:",
   "metadata": {
    "cell_id": "00007-37e6a46e-4a90-4b1a-ab56-2f6521856902",
    "deepnote_cell_type": "markdown"
   }
  },
  {
   "cell_type": "code",
   "metadata": {
    "trusted": false,
    "cell_id": "00008-e3e628ef-e4de-40ba-9d70-e397c37d2cb0",
    "output_cleared": false,
    "deepnote_to_be_reexecuted": false,
    "source_hash": "b44ed3ab",
    "execution_start": 1643569071500,
    "execution_millis": 0,
    "deepnote_cell_type": "code"
   },
   "source": "from __future__ import print_function\nimport numpy as np\nfrom ase import Atoms\nfrom ase.units import eV, Ang, GPa\nd = 2.5*Ang\na = Atoms('2Cu', positions=[(0., 0., 0.), (0., 0., d)])",
   "execution_count": 1,
   "outputs": []
  },
  {
   "cell_type": "markdown",
   "source": "The ```positions``` array contains the x, y, z coordinates of each atom, in that order. ",
   "metadata": {
    "cell_id": "00009-77f84d1b-2c31-43e9-ab65-573cadab5e2a",
    "deepnote_cell_type": "markdown"
   }
  },
  {
   "cell_type": "markdown",
   "source": "Now attach a ```calculator``` (ASE-speak for a model that can compute energies, forces and stresses on atoms) to this object, and compute its potential energy. (Any time you create a new atoms object, you need to set its calculator, but you can reuse the same calculator object)",
   "metadata": {
    "cell_id": "00010-6a91c752-67d5-4f24-a4db-86f7e81aceae",
    "deepnote_cell_type": "markdown"
   }
  },
  {
   "cell_type": "code",
   "metadata": {
    "trusted": false,
    "cell_id": "00011-1ea55d05-a91e-4a9f-b4e2-f8ea47daabf6",
    "output_cleared": false,
    "deepnote_to_be_reexecuted": false,
    "source_hash": "4b7aa838",
    "execution_start": 1643569071542,
    "execution_millis": 111,
    "deepnote_output_heights": [
     21
    ],
    "deepnote_cell_type": "code"
   },
   "source": "import sys\nsys.path.append(r'files')\nimport Morse\ncalc = Morse.MorsePotential()\n\na.set_calculator(calc) \na.get_potential_energy()",
   "execution_count": 2,
   "outputs": [
    {
     "output_type": "execute_result",
     "execution_count": 2,
     "data": {
      "text/plain": "-0.14929402163819286"
     },
     "metadata": {}
    }
   ]
  },
  {
   "cell_type": "markdown",
   "source": "Changing the position of the second atom allows the evaluation of the potential energy as a function of distance",
   "metadata": {
    "cell_id": "00012-ea53d930-0e83-4463-bfed-326d08dbb594",
    "deepnote_cell_type": "markdown"
   }
  },
  {
   "cell_type": "code",
   "metadata": {
    "trusted": false,
    "cell_id": "00013-8d2c5326-9e86-48f8-81ec-3a9603f5273b",
    "output_cleared": false,
    "deepnote_output_heights": [
     40
    ],
    "deepnote_to_be_reexecuted": false,
    "source_hash": "f5abf7c7",
    "execution_start": 1643569071658,
    "execution_millis": 14,
    "deepnote_cell_type": "code"
   },
   "source": "p = a.get_positions()\np",
   "execution_count": 3,
   "outputs": [
    {
     "output_type": "execute_result",
     "execution_count": 3,
     "data": {
      "text/plain": "array([[0. , 0. , 0. ],\n       [0. , 0. , 2.5]])"
     },
     "metadata": {}
    }
   ]
  },
  {
   "cell_type": "code",
   "metadata": {
    "trusted": false,
    "cell_id": "00014-b8330ec8-afe2-403f-b5ff-a9c9576c4499",
    "output_cleared": false,
    "deepnote_output_heights": [
     40
    ],
    "deepnote_to_be_reexecuted": false,
    "source_hash": "edfe290c",
    "execution_start": 1643569071678,
    "execution_millis": 40,
    "deepnote_cell_type": "code"
   },
   "source": "p[1,2] = 2.8\np",
   "execution_count": 4,
   "outputs": [
    {
     "output_type": "execute_result",
     "execution_count": 4,
     "data": {
      "text/plain": "array([[0. , 0. , 0. ],\n       [0. , 0. , 2.8]])"
     },
     "metadata": {}
    }
   ]
  },
  {
   "cell_type": "code",
   "metadata": {
    "trusted": false,
    "cell_id": "00015-286a7d79-9920-4d1e-a6c8-25af99d70a5e",
    "output_cleared": false,
    "deepnote_output_heights": [
     21
    ],
    "deepnote_to_be_reexecuted": false,
    "source_hash": "29055bb2",
    "execution_start": 1643569071725,
    "execution_millis": 13,
    "deepnote_cell_type": "code"
   },
   "source": "a.set_positions(p)\na.get_potential_energy()",
   "execution_count": 5,
   "outputs": [
    {
     "output_type": "execute_result",
     "execution_count": 5,
     "data": {
      "text/plain": "-0.1451042133708922"
     },
     "metadata": {}
    }
   ]
  },
  {
   "cell_type": "markdown",
   "source": "You can also manipulate the positions of the atoms directly by access the array inside the ```Atoms``` object:",
   "metadata": {
    "cell_id": "00016-4f180e30-b94b-4853-985c-6fc4c222b515",
    "deepnote_cell_type": "markdown"
   }
  },
  {
   "cell_type": "code",
   "metadata": {
    "trusted": false,
    "cell_id": "00017-216e8da7-69e5-49d7-9aaf-0139e66880f8",
    "output_cleared": false,
    "deepnote_output_heights": [
     40
    ],
    "deepnote_to_be_reexecuted": false,
    "source_hash": "93fdeeca",
    "execution_start": 1643569071787,
    "execution_millis": 3,
    "deepnote_cell_type": "code"
   },
   "source": "a.positions[1,2] = 2.9\na.get_positions()",
   "execution_count": 6,
   "outputs": [
    {
     "output_type": "execute_result",
     "execution_count": 6,
     "data": {
      "text/plain": "array([[0. , 0. , 0. ],\n       [0. , 0. , 2.9]])"
     },
     "metadata": {}
    }
   ]
  },
  {
   "cell_type": "markdown",
   "source": "The forces exerted by the atoms on one another can be obtained analogously. Remember that the force is the negative of the 3-dimensional gradient vector of the potential energy. (But there is no directly accessible array in the ```Atoms``` object that holds the forces, you have to use the function call)",
   "metadata": {
    "cell_id": "00018-fcd55e19-9080-4fc9-8ed1-8418499a9b4a",
    "deepnote_cell_type": "markdown"
   }
  },
  {
   "cell_type": "code",
   "metadata": {
    "trusted": false,
    "cell_id": "00019-7d50714c-8320-48d2-9962-be9a192da822",
    "output_cleared": false,
    "deepnote_output_heights": [
     40
    ],
    "deepnote_to_be_reexecuted": false,
    "source_hash": "a9e00b56",
    "execution_start": 1643569071787,
    "execution_millis": 3,
    "deepnote_cell_type": "code"
   },
   "source": "f = a.get_forces()\nf",
   "execution_count": 7,
   "outputs": [
    {
     "output_type": "execute_result",
     "execution_count": 7,
     "data": {
      "text/plain": "array([[ 0.        ,  0.        ,  0.16719099],\n       [ 0.        ,  0.        , -0.16719099]])"
     },
     "metadata": {}
    }
   ]
  },
  {
   "cell_type": "markdown",
   "source": "### Deliverable 1\n\nWrite a function that computes the Morse potential energy for two atoms for a given distance between them, and use it to:\n1. __Create a plot of the energy against distance. Now do the same for the the force exerted by one atom on the other.__\n\n2. __What is the distance between the two atoms corresponding to the lowest potential energy ?__\n\nHint: You can create an array of distances, and for each one create the Atoms object and compute the potential energy and forces. Make sure to use a sensible range of distances - if atoms are too close, the plot will be dominated by the repulsive interaction. ",
   "metadata": {
    "cell_id": "00020-8fb57815-ef0a-4436-8e24-8fd5a1cf5158",
    "deepnote_cell_type": "markdown"
   }
  },
  {
   "cell_type": "code",
   "source": "from __future__ import print_function\nimport numpy as np\nimport matplotlib.pyplot as plt\nfrom ase import Atoms\nfrom ase.units import eV, Ang, GPa\nimport sys\nsys.path.append(r'files')\nimport Morse\ncalc = Morse.MorsePotential()\n\ndef potential_energy(distance):\n    atoms = Atoms('2Cu', positions=[(0., 0., 0.), (0., 0., distance)])\n    atoms.set_calculator(calc) \n    return atoms.get_potential_energy()\n\n\ndef annot_min(x,y, ax=None):\n    xmin = x[np.argmin(y)]\n    ymin = y.min()\n    text= \"x={:.3f}, y={:.3f}\".format(xmin, ymin)\n    if not ax:\n        ax=plt.gca()\n    bbox_props = dict(boxstyle=\"square,pad=0.3\", fc=\"w\", ec=\"k\", lw=0.72)\n    arrowprops=dict(arrowstyle=\"->\",connectionstyle=\"angle,angleA=0,angleB=60\")\n    kw = dict(xycoords='data',textcoords=\"axes fraction\",\n              arrowprops=arrowprops, bbox=bbox_props, ha=\"right\", va=\"top\")\n    ax.annotate(text, xy=(xmin, ymin), xytext=(0.94,0.96), **kw)\n\nx = np.linspace(2.2*Ang,5*Ang,1000)\ny = np.zeros(len(x))\n\nfor i in range(len(x)-1):\n    p = x[i]\n    y[i]=potential_energy(x[i])\n\nplt.plot(x,y)\nplt.plot(x,np.zeros(len(x)),'--')\nplt.xlabel(\"Distance (Arn)\")\nplt.ylabel(\"Potential Energy (eV)\")\nannot_min(x,y)",
   "metadata": {
    "cell_id": "c7e55dd4-c67a-493f-a5cd-5b66258d7b02",
    "tags": [],
    "deepnote_to_be_reexecuted": false,
    "source_hash": "b8c69e78",
    "execution_start": 1643569101026,
    "execution_millis": 1354,
    "deepnote_output_heights": [
     264,
     264,
     250
    ],
    "deepnote_cell_type": "code"
   },
   "outputs": [
    {
     "data": {
      "text/plain": "<Figure size 432x288 with 1 Axes>",
      "image/png": "[encoded data removed]"
     },
     "metadata": {
      "needs_background": "light",
      "image/png": {
       "width": 400,
       "height": 262
      }
     },
     "output_type": "display_data"
    }
   ],
   "execution_count": 10
  },
  {
   "cell_type": "markdown",
   "source": "### Task and Deliverable 2 \n\n1. __Write a _unit test_ that verifies that the forces returned by the ```get_forces()``` function is really the negative gradient of the energy (as returned by the ```get_potential_energy()``` function) with respect to the atomic positions. Do this by comparing the forces returned by ```get_forces()``` to those obtained by numerical finite differences of energies between two sets of atomic positions, displaced by small amount.__\n\n2. __Experiment with different values of $\\epsilon$ and look at how accurate the approximation is as a function of $\\epsilon$.__\n\n3. __What goes wrong if you make $\\epsilon$ too small?__",
   "metadata": {
    "cell_id": "00021-c856a3cb-5398-47d4-a439-09eeccfcadd5",
    "deepnote_cell_type": "markdown"
   }
  },
  {
   "cell_type": "markdown",
   "source": "Hint:\n\nUse the idea of the definition of the gradient and its relation to the Taylor expansion:\n\n$$\n\\nabla f(x) \\approx \\frac{f(x+\\epsilon)-f(x)}{\\epsilon}\n$$\n\nWith just two atoms in the \"system\", you can treat the energy and force as just functions of a scalar variable, the distance between the two atoms. More generally, both the energy and the forces are functions of many atomic coordinates, which we can collect into a vector $\\bf{R}$, so the truncated Taylor expansion takes the form:\n\n$$\n\\nabla f({\\bf R})\\cdot {\\bf d} \\approx \\frac{f ({\\bf R}+\\epsilon {\\bf d} )-f({\\bf R})}{\\epsilon}\n$$\n\nwhere ${\\bf d}$ is the vector representing a small displacement. \n\nA graph is a good way to examine how the size of epsilon translates to the accuracy (error) of the approximation.\n",
   "metadata": {
    "cell_id": "00022-0d682700-a059-4e0a-ba02-bd3c9ad11e18",
    "deepnote_cell_type": "markdown"
   }
  },
  {
   "cell_type": "markdown",
   "source": "### Task 3\n\n_Create a cubic unit cell of the Cu crystal, and extract some of its properties._\n\nIn order to investigate the properties of bulk copper, we need to model a large number of atoms. But evaluating the total potential energy of a large number of atoms takes a long time, and so we need a shortcut. In fact many simple properties of a crystalline solid can be evaluated by just considering its _unit cell_, i.e. the smallest repeating unit from which the crystal is made. This is typically true for static properties that do not depend on atoms experiencing a variety of neighbour environments, i.e. in the absence of _defects_. Such properties include the _lattice constant_ (i.e. the density), the _equation of state_, the _elastic constants_ (including the _bulk modulus_), the _Poisson ratio_, etc. \n\nThe trick is to _assume_ that the atoms are arranged in perfect crystalline order, and only explicitly consider those atoms that are in a single unit cell. In order to correctly evaluate the energy, the _effect_ of atoms in neighbouring unit cells needs to be included, but this can be done by using [_periodic boundary conditions_](https://en.wikipedia.org/wiki/Periodic_boundary_conditions). The page behind the link is rather detailed, but think about the Fourier Series from IA maths, which was applicable to periodic functions, but you only ever had to consider the function values over a single period. This is similar. \n\nIn the image below, the blue shaded area is the unit cell, its sides are the lattice vectors that generate the periodic images. ",
   "metadata": {
    "cell_id": "00023-5c807694-98f4-4d0d-badf-bf3bd3afd807",
    "deepnote_cell_type": "markdown"
   }
  },
  {
   "cell_type": "markdown",
   "source": "![Periodic cells](./files/unitcell2.png)",
   "metadata": {
    "cell_id": "00024-01044e3d-ba8f-4753-b9c2-5ea1a01b2846",
    "deepnote_cell_type": "markdown"
   }
  },
  {
   "cell_type": "markdown",
   "source": "More complicated properties, such as the _yield stress_, or those of more complicated materials such as _polycrystalline solids_ cannot be extracted from such small unit cells.",
   "metadata": {
    "cell_id": "00025-90d17947-ed37-4910-9305-851535030d42",
    "deepnote_cell_type": "markdown"
   }
  },
  {
   "cell_type": "markdown",
   "source": "The crystal structure of Cu is face centered cubic, and ASE provides convenient constructors which assume periodic boundary conditions, unless instructed otherwise:",
   "metadata": {
    "cell_id": "00026-37026a44-e7a7-4a98-ab91-8356309c1279",
    "deepnote_cell_type": "markdown"
   }
  },
  {
   "cell_type": "code",
   "metadata": {
    "trusted": false,
    "cell_id": "00027-9b562fc4-2ca6-4750-8250-9f1b384f7a59",
    "output_cleared": false,
    "deepnote_to_be_reexecuted": true,
    "source_hash": "730d73d3",
    "execution_start": 1643568718615,
    "execution_millis": 0,
    "deepnote_cell_type": "code"
   },
   "source": "from ase.build import bulk\ncu = bulk(\"Cu\", \"fcc\", a=3.6, cubic=True)",
   "outputs": [],
   "execution_count": null
  },
  {
   "cell_type": "markdown",
   "source": "![cu](./files/cu.png)",
   "metadata": {
    "cell_id": "00028-702dbfee-b2b7-4c5e-8e33-8149b2e7caba",
    "deepnote_cell_type": "markdown"
   }
  },
  {
   "cell_type": "markdown",
   "source": "Although the smallest possible unit cell of an fcc crystal contains just one atom, it is often more convenient to work with the \"cubic unit cell\" which contains 4 atoms, but whose lattice vectors (which represent the displacements that correspond to the periodically repeating units) are just the sides of a cube, i.e. orthogonal and correspond to the x, y, and z axes. The size of the lattice vectors determine the volume of the unit cell and the corresponding density of material modelled. \n\nThe fcc crystal you have seen before probably show an atom in each face of the cubic unit cell - but many of those are repeated periodic images of the ones shown above!\n\nIn ASE, the lattice vectors are stored, side-by-side, collected together in a 3x3 matrix called _cell_. So, the first column is the first lattice vector ($L_1$), the second column is the second lattice vector($L_2$), and the third column is the third lattice vector ($L_3$).\n\n$$\n\\left[ \\begin{matrix} L_{1x} &L_{2x} &L_{3x}\\\\ L_{1y} &L_{2y}&L_{3y}\\\\ L_{1z} &L_{2z}&L_{3z} \\end{matrix}\\right]\n$$",
   "metadata": {
    "cell_id": "00029-6c09c93d-bae6-4d9e-bb5a-864d6d44d593",
    "deepnote_cell_type": "markdown"
   }
  },
  {
   "cell_type": "code",
   "metadata": {
    "tags": [],
    "cell_id": "00030-42d0384f-22ea-4ce6-a823-c596c36356a1",
    "output_cleared": false,
    "deepnote_output_heights": [
     21
    ],
    "deepnote_to_be_reexecuted": true,
    "source_hash": "ee4d0193",
    "execution_start": 1643568718616,
    "execution_millis": 2,
    "deepnote_cell_type": "code"
   },
   "source": "cu.cell",
   "outputs": [
    {
     "output_type": "execute_result",
     "execution_count": 10,
     "data": {
      "text/plain": "Cell([3.6, 3.6, 3.6])"
     },
     "metadata": {}
    }
   ],
   "execution_count": null
  },
  {
   "cell_type": "markdown",
   "source": "This returned a \"Cell object\", if we want to see the actual cell vectors, we need to convert it to an array.",
   "metadata": {
    "tags": [],
    "cell_id": "00031-41bcd9ea-c417-4eb0-ac14-14b5430a4617",
    "deepnote_cell_type": "markdown"
   }
  },
  {
   "cell_type": "code",
   "metadata": {
    "trusted": false,
    "cell_id": "00030-626fbf9e-7322-4d49-977e-ec3be717b9df",
    "output_cleared": false,
    "deepnote_output_heights": [
     59
    ],
    "deepnote_to_be_reexecuted": true,
    "source_hash": "c0aacd09",
    "execution_start": 1643568718659,
    "execution_millis": 3,
    "deepnote_cell_type": "code"
   },
   "source": "np.array(cu.cell)",
   "outputs": [
    {
     "output_type": "execute_result",
     "execution_count": 11,
     "data": {
      "text/plain": "array([[3.6, 0. , 0. ],\n       [0. , 3.6, 0. ],\n       [0. , 0. , 3.6]])"
     },
     "metadata": {}
    }
   ],
   "execution_count": null
  },
  {
   "cell_type": "markdown",
   "source": "There are indeed 4 atoms in this unit cell, with positions corresponding to the origin, and the centers of the sides of the unit cube on the YZ, ZX and XY planes:",
   "metadata": {
    "cell_id": "00031-aa71ed6f-e8ec-4ae1-af2e-c4092a051561",
    "deepnote_cell_type": "markdown"
   }
  },
  {
   "cell_type": "code",
   "metadata": {
    "trusted": false,
    "cell_id": "00032-80916453-4d4f-4e05-9c08-67a6a179e8db",
    "output_cleared": false,
    "deepnote_output_heights": [
     78
    ],
    "deepnote_to_be_reexecuted": true,
    "source_hash": "4456ecfc",
    "execution_start": 1643568718660,
    "execution_millis": 2,
    "deepnote_cell_type": "code"
   },
   "source": "cu.get_positions()",
   "outputs": [
    {
     "output_type": "execute_result",
     "execution_count": 12,
     "data": {
      "text/plain": "array([[0. , 0. , 0. ],\n       [0. , 1.8, 1.8],\n       [1.8, 0. , 1.8],\n       [1.8, 1.8, 0. ]])"
     },
     "metadata": {}
    }
   ],
   "execution_count": null
  },
  {
   "cell_type": "markdown",
   "source": "Verify that the periodic boundary conditions are implemented correctly by evaluating the potential energy of the unit cell, and comparing the potential energy per atom to that of a larger cell, which is obtained by replicating the original twice in each of the three directions. Since both smaller and larger cells represent an infinite, periodic array of copper atoms, the potential energy per atom should be the same. ",
   "metadata": {
    "cell_id": "00033-a86955d6-0f05-4864-9b09-eff1605fa908",
    "deepnote_cell_type": "markdown"
   }
  },
  {
   "cell_type": "code",
   "metadata": {
    "trusted": false,
    "cell_id": "00034-6b749369-77ff-49bd-8d70-0f5fe787a08c",
    "output_cleared": false,
    "deepnote_to_be_reexecuted": true,
    "source_hash": "ec7c597f",
    "execution_start": 1643568718720,
    "execution_millis": 120,
    "deepnote_cell_type": "code"
   },
   "source": "cu.set_calculator(calc)\nprint(\"Number of atoms: \", cu.get_global_number_of_atoms())\nprint(\"Potential energy per atom: \", cu.get_potential_energy()/cu.get_global_number_of_atoms())",
   "outputs": [
    {
     "name": "stdout",
     "text": "Number of atoms:  4\nPotential energy per atom:  -1.1699071927299534\n",
     "output_type": "stream"
    }
   ],
   "execution_count": null
  },
  {
   "cell_type": "code",
   "metadata": {
    "trusted": false,
    "cell_id": "00035-a7474189-2336-44b6-8318-576b11526d5c",
    "output_cleared": false,
    "deepnote_to_be_reexecuted": true,
    "source_hash": "c007b88f",
    "execution_start": 1643568718894,
    "execution_millis": 367,
    "deepnote_cell_type": "code"
   },
   "source": "cu222 = cu.copy()        # creating a copy of an Atoms object\ncu222.set_calculator(calc) # copying DOES NOT bring the attached calculator, so we need to set it again\ncu222 *= (2,2,2)         # replicating the unit cell is accomplished by the multiplying operator\nprint(\"Number of atoms: \", cu222.get_global_number_of_atoms())\nprint(\"Potential energy per atom: \", cu222.get_potential_energy()/cu222.get_global_number_of_atoms())",
   "outputs": [
    {
     "name": "stdout",
     "text": "Number of atoms:  32\nPotential energy per atom:  -1.1699071927299536\n",
     "output_type": "stream"
    }
   ],
   "execution_count": null
  },
  {
   "cell_type": "markdown",
   "source": "![cu222](./files/cu222.png)",
   "metadata": {
    "cell_id": "00036-1c7e8bc3-ec80-4ee2-9392-ba522c00f7f3",
    "deepnote_cell_type": "markdown"
   }
  },
  {
   "cell_type": "markdown",
   "source": "Strain can be applied to the system by modifying (distorting) the unit cell appropriately. E.g. to apply 1% hydrostatic compression:",
   "metadata": {
    "cell_id": "00037-8cc3784a-727c-46e6-b644-dd21f6d313d1",
    "deepnote_cell_type": "markdown"
   }
  },
  {
   "cell_type": "code",
   "metadata": {
    "trusted": false,
    "cell_id": "00038-18a8b793-610b-42c9-8106-a2038c74e231",
    "output_cleared": false,
    "deepnote_output_heights": [
     21
    ],
    "deepnote_to_be_reexecuted": true,
    "source_hash": "645b33ec",
    "execution_start": 1643568719277,
    "execution_millis": 19,
    "deepnote_cell_type": "code"
   },
   "source": "cell = cu.get_cell()\ncell *= 0.99\ncu.set_cell(cell, scale_atoms=True) # To apply strain, the atomic positions need to be scaled together with the unit cell \ncu.get_cell()",
   "outputs": [
    {
     "output_type": "execute_result",
     "execution_count": 15,
     "data": {
      "text/plain": "Cell([3.564, 3.564, 3.564])"
     },
     "metadata": {}
    }
   ],
   "execution_count": null
  },
  {
   "cell_type": "code",
   "metadata": {
    "trusted": false,
    "cell_id": "00039-bd23e312-aa29-4aed-867d-bf6709ae59a0",
    "output_cleared": false,
    "deepnote_output_heights": [
     21,
     21
    ],
    "deepnote_to_be_reexecuted": true,
    "source_hash": "9871a45",
    "execution_start": 1643568719301,
    "execution_millis": 241,
    "deepnote_cell_type": "code"
   },
   "source": "cu.get_potential_energy()/cu.get_number_of_atoms()",
   "outputs": [
    {
     "name": "stderr",
     "text": "/root/venv/lib/python3.7/site-packages/ase/atoms.py:968: VisibleDeprecationWarning: Use get_global_number_of_atoms() instead\n  np.VisibleDeprecationWarning)\n",
     "output_type": "stream"
    },
    {
     "output_type": "execute_result",
     "execution_count": 16,
     "data": {
      "text/plain": "-1.1657718984261178"
     },
     "metadata": {}
    }
   ],
   "execution_count": null
  },
  {
   "cell_type": "markdown",
   "source": "The stress on the system is given as a matrix, here we get it as a 3x3 matrix (ASE's default is to provide it in [Voigt notation](https://en.wikipedia.org/wiki/Voigt_notation))",
   "metadata": {
    "cell_id": "00040-1d2d9db7-f585-4162-83bf-a544576f8fb4",
    "deepnote_cell_type": "markdown"
   }
  },
  {
   "cell_type": "code",
   "metadata": {
    "trusted": false,
    "cell_id": "00041-2f01ced2-7f61-4b56-86e9-b43da0352143",
    "output_cleared": false,
    "deepnote_output_heights": [
     59,
     59
    ],
    "deepnote_to_be_reexecuted": true,
    "source_hash": "fdbf23ce",
    "execution_start": 1643568719509,
    "execution_millis": 70,
    "deepnote_cell_type": "code"
   },
   "source": "cu.get_stress(voigt=False)",
   "outputs": [
    {
     "name": "stderr",
     "text": "/root/venv/lib/python3.7/site-packages/ase/utils/__init__.py:62: FutureWarning: Please use atoms.cell.rank instead\n  warnings.warn(warning)\n",
     "output_type": "stream"
    },
    {
     "output_type": "execute_result",
     "execution_count": 17,
     "data": {
      "text/plain": "array([[-2.33782806e-02,  2.45243296e-18, -9.19662359e-19],\n       [ 2.45243296e-18, -2.33782806e-02, -2.29915590e-19],\n       [-9.19662359e-19, -2.29915590e-19, -2.33782806e-02]])"
     },
     "metadata": {}
    }
   ],
   "execution_count": null
  },
  {
   "cell_type": "markdown",
   "source": "The stress, analogously to the force, is the derivative of the energy with respect to the unit cell vectors (or more precisely, with respect to the deformation strain applied to the unit cell vectors). Note how the off-diagonal elements of the stress matrix above are essentially zero and the diagonal elements are the same, i.e. the stress is the same in the X, Y, and Z directions, corresponding to the 1% hydrostatic compression that we applied above. ",
   "metadata": {
    "cell_id": "00042-02e88417-c015-456a-b0d7-ba1dfee58da5",
    "deepnote_cell_type": "markdown"
   }
  },
  {
   "cell_type": "markdown",
   "source": "### Deliverable 3\n\n1. __Write a program that calculates and plots the potential energy and pressure (P) of the copper crystal as a function of volume by applying varying amounts of hydrostatic strain.__\n2. __Calculate the [bulk modulus](https://en.wikipedia.org/wiki/Bulk_modulus) at the equilibrium volume. Compare it to the experimental value.__\n\nHints:\n\n- Make sure you use a sensible range of strains, think about what would be reasonable in a real experiment\n- For the plot, use both compressive and tensile strains. Make sure you plot against the volume, not against the strain itself.\n- Remember that $K = -V dP/dV$ where $V$ is the volume, and that the pressure is related to the trace of the stress matrix (S), $P = - \\frac{1}{3} \\text{Tr}(S)$.\n- Do not forget that energy and volume are extensive, so it is best to work with the per-atom quantities.\n- Do not be surprised that you only get within the experimental value within 20% or so. ",
   "metadata": {
    "cell_id": "00043-4600712d-78bc-4295-b88b-7e49d3093a86",
    "deepnote_cell_type": "markdown"
   }
  },
  {
   "cell_type": "code",
   "metadata": {
    "trusted": false,
    "cell_id": "00044-94f3dede-ad07-4117-a08c-d208e20fc2e2",
    "output_cleared": false,
    "deepnote_to_be_reexecuted": true,
    "source_hash": "454890d7",
    "execution_start": 1643568719564,
    "execution_millis": 338,
    "deepnote_cell_type": "code"
   },
   "source": "# Those who browse the documentation of ASE can discover that it has functionality to fit the equation of state\n# and extract parameters using more accurate methods. Compare your result above to those computed by ASE. \n\n# The call below takes two arrays: the variable V is an array of volumes/atom and E\n# is an array of corresponding potential energy values, again per atom. If you want to execute this\n# notebook cell, you will need to substitute your own arrays for V and E.\nfrom ase.eos import EquationOfState\nfrom ase.units import kJ\neos = EquationOfState(V, E, eos=\"birchmurnaghan\") # Birch-Murnaghan is a particular functional form fitted to the equation of state\nv0, e0, B = eos.fit()\nprint('Bulk modulus: ', B / kJ * 1.0e24, 'GPa')\neos.plot()",
   "outputs": [
    {
     "output_type": "error",
     "ename": "NameError",
     "evalue": "name 'V' is not defined",
     "traceback": [
      "\u001b[0;31m---------------------------------------------------------------------------\u001b[0m",
      "\u001b[0;31mNameError\u001b[0m                                 Traceback (most recent call last)",
      "\u001b[0;32m<ipython-input-18-d46d70900ed0>\u001b[0m in \u001b[0;36m<module>\u001b[0;34m\u001b[0m\n\u001b[1;32m      7\u001b[0m \u001b[0;32mfrom\u001b[0m \u001b[0mase\u001b[0m\u001b[0;34m.\u001b[0m\u001b[0meos\u001b[0m \u001b[0;32mimport\u001b[0m \u001b[0mEquationOfState\u001b[0m\u001b[0;34m\u001b[0m\u001b[0;34m\u001b[0m\u001b[0m\n\u001b[1;32m      8\u001b[0m \u001b[0;32mfrom\u001b[0m \u001b[0mase\u001b[0m\u001b[0;34m.\u001b[0m\u001b[0munits\u001b[0m \u001b[0;32mimport\u001b[0m \u001b[0mkJ\u001b[0m\u001b[0;34m\u001b[0m\u001b[0;34m\u001b[0m\u001b[0m\n\u001b[0;32m----> 9\u001b[0;31m \u001b[0meos\u001b[0m \u001b[0;34m=\u001b[0m \u001b[0mEquationOfState\u001b[0m\u001b[0;34m(\u001b[0m\u001b[0mV\u001b[0m\u001b[0;34m,\u001b[0m \u001b[0mE\u001b[0m\u001b[0;34m,\u001b[0m \u001b[0meos\u001b[0m\u001b[0;34m=\u001b[0m\u001b[0;34m\"birchmurnaghan\"\u001b[0m\u001b[0;34m)\u001b[0m \u001b[0;31m# Birch-Murnaghan is a particular functional form fitted to the equation of state\u001b[0m\u001b[0;34m\u001b[0m\u001b[0;34m\u001b[0m\u001b[0m\n\u001b[0m\u001b[1;32m     10\u001b[0m \u001b[0mv0\u001b[0m\u001b[0;34m,\u001b[0m \u001b[0me0\u001b[0m\u001b[0;34m,\u001b[0m \u001b[0mB\u001b[0m \u001b[0;34m=\u001b[0m \u001b[0meos\u001b[0m\u001b[0;34m.\u001b[0m\u001b[0mfit\u001b[0m\u001b[0;34m(\u001b[0m\u001b[0;34m)\u001b[0m\u001b[0;34m\u001b[0m\u001b[0;34m\u001b[0m\u001b[0m\n\u001b[1;32m     11\u001b[0m \u001b[0mprint\u001b[0m\u001b[0;34m(\u001b[0m\u001b[0;34m'Bulk modulus: '\u001b[0m\u001b[0;34m,\u001b[0m \u001b[0mB\u001b[0m \u001b[0;34m/\u001b[0m \u001b[0mkJ\u001b[0m \u001b[0;34m*\u001b[0m \u001b[0;36m1.0e24\u001b[0m\u001b[0;34m,\u001b[0m \u001b[0;34m'GPa'\u001b[0m\u001b[0;34m)\u001b[0m\u001b[0;34m\u001b[0m\u001b[0;34m\u001b[0m\u001b[0m\n",
      "\u001b[0;31mNameError\u001b[0m: name 'V' is not defined"
     ]
    }
   ],
   "execution_count": null
  },
  {
   "cell_type": "markdown",
   "source": "### Task and Deliverable 4 \n\n1. __Write a program to compute the [shear modulus](https://en.wikipedia.org/wiki/Shear_modulus).__\n\nHint: You can apply a shear in the XY plane by modifying the X component of the lattice vector that points originally in the Y direction, i.e. $L_{2x}$. Apply _small_ amounts of shear, i.e. a few percent. Starting with a cubic cell with side lengths L, new cell matrix, after applying 1% shear in the XY plane, would be given by\n\n$$\n\\left[\\begin{matrix}\nL & 0.01L & 0\\\\0&L&0\\\\ 0&0&L\n\\end{matrix}\\right]\n$$\n\nJust as before, in the hydrostatic case, after applying the shear strain in this way, you can get the corresponding (shear) stress simply by calling the ```get_stress()``` function. Observe which components of the stress matrix is nonzero, and think about which one you need to work out the shear modulus. \n\nThe computed shear modulus of this model deviates from the experimental value by quite a bit more than the bulk modulus - this is typical for such simple models. \n\n2. __Write a program to determine the [Poisson ratio](https://en.wikipedia.org/wiki/Poisson%27s_ratio)__\n\nHint: Recall that if the system is strained in the X direction by a normal strain (not shear), the resulting stress will not be purely in the X direction, but in addition to the stress in X there will be stress in the Y and Z directions also. If you now strain the system in an _equibiaxial_ way, so some amount of strain in X, and equal amounts in Y and Z, that is different from the strain in X, the Poisson ratio is the ratio of X and Y(and Z) strains that lead to no stress in the Y (and Z) directions. \n\n- Think about the sign of the X strain and the Y(and Z) strains.\n- Make sure you use a sensible range of strains. \n- The Poisson ratio depends very sensitively on the starting volume, so make sure you use the unit cell size that corresponds to the lowest energy, accurate to at least 4 decimal places. \n- You should get a computed value that is within 10% of the experimentally observed one. \n",
   "metadata": {
    "cell_id": "00045-7bd01910-deb2-4473-a75f-c15e4f029cb3",
    "deepnote_cell_type": "markdown"
   }
  },
  {
   "cell_type": "markdown",
   "source": "#### Comparison to experiment\n\nYou will note that there are significant discrepancies from the experimental values of the elastic properties. Some of this is due to the simplicity of the Morse potential, but not all of it. \n\n- The simple calculations you did apply to a \"single crystal\" of the material, where we assume that the entire extent of the material is just periodic copies of the same unit cell. In reality a typical piece of copper would have many grains, each of which are single crystals, but they are oriented randomly, so anything you measure on the sample is a rotationally averaged quantity. \n- It turns out that the elastic properties do depend on the orientation, so our single crystal model behaves quite differently from a rotationally averaged system.\n- For example, the simple relationship that you know between the bulk modulus, shear modulus and the Poisson ratio only holds for isotropic materials (so including polycrystalline materials, because of the rotational averaging), and we don't expect it to hold for the single crystal.\n- What is the deviation of the above results from the simple relationship between the three elastic properties? Which is the one that is most different from the experimental polycrystalline value? ",
   "metadata": {
    "cell_id": "00046-82afd35e-eac5-4173-a945-a6b6243fe4d9",
    "deepnote_cell_type": "markdown"
   }
  },
  {
   "cell_type": "markdown",
   "source": "### Deliverable 5: Tension experiment with a notch\n\n![bar](./files/bar_annotated.png)",
   "metadata": {
    "cell_id": "00047-a582ecbd-55ea-44e9-b3d2-3b684343b07b",
    "deepnote_cell_type": "markdown"
   }
  },
  {
   "cell_type": "markdown",
   "source": "\nThe same model can be used for simulation of more complex, larger scale geometries, e.g. the the situation shown below, which shows a slab with notch being pulled from at the top and bottom. In order to speed up the computation, we employ periodic boundary conditions in one of the directions (Z) that is perpendicular to the direction that you will apply the strain along (X). The atoms are coloured according to their energy (blue is lowest, red is highest, green is in between). As the load is applied, instead of following the evolution of the atomic positions in time, we optimise the positions to find the lowest energy state corresponding to each particular applied strain. This can be accomplished much more quickly using sophisticated optimisation techniques (which you might learn more about in Part IIA), rather than by integrating forward the equations of motion for the atoms.\n\nPlease write out answers to the following questions (bulletpoints are accepted):\n\n1. __Take a look at the [animation](https://deepnote.com/project/02a51db6-fc97-4151-b517-6482c8fdf794#%2FMorse2d_video.mp4) and identify the dislocations that are nucleating.__<br>\n(If the link doesn't work, download the file directly from the same directory this notebook is in [see top right folder icon])\n\n2. __Describe what happens to the dislocation subsequent to nucleation: how do the dislocations and free surfaces interact? What happens to the dislocations that reach the fixed part of the bar that corresponds to the \"grips\" in the experiment?__ \n3. __What happens to the notch?__\n\n*Note that you have observed only one kind of process, dislocation nucleation and glide. In a real material, or a more realistic model, there will be many different kinds of plastic processes. Some take more time than what you are able to simulate, some need preexisting flaws to start, some need multiple crystal grains and the grain boundaries between them, some need a more realistic length scale to be modelled.*\n",
   "metadata": {
    "cell_id": "00048-a37d840d-9e45-4fcf-ae0d-413a8e2608d9",
    "deepnote_cell_type": "markdown"
   }
  },
  {
   "cell_type": "markdown",
   "source": "--- *end of laboratory exercise* ---",
   "metadata": {
    "cell_id": "00049-e3145da1-5858-47fb-82bf-3f57a32a7407",
    "deepnote_cell_type": "markdown"
   }
  },
  {
   "cell_type": "markdown",
   "source": "## Optional extensions\n\nYou are also supplied an [example program](files/run_cu_bar_notch_2d_qs.py) which creates an atomistic model representing a notched bar and runs the simulation that produced the above animation. You can run the program yourself, and in order to visualize the output trajectory of the atoms, download and install [Ovito](https://ovito.org), an atomistic visualisation tool. In Ovito you can open the trajectory file that is produced (ending with ```.xyz```), then you will need to check the \"File contains multiple timesteps\" checkbox on the right under the \"XYZ File\" heading, so that the animation controls to activate. The best way to see where deformation takes place is to colour the atoms according to their atomic energy, you can accomplish this by clicking on \"Add Modification\" in the top right panel, selecting \"Color coding\", and then selecting the \"Potential energy\" property from the dropdown menu, then click on \"Adjust range\".",
   "metadata": {
    "cell_id": "00050-2eff1702-15d7-47df-8ceb-1e7902a0315b",
    "deepnote_cell_type": "markdown"
   }
  },
  {
   "cell_type": "markdown",
   "source": "_Note: the simulation with the default parameters can take several hours to run, depending on the speed of your computer, but you can visualise the trajectory while it is being generated. Clicking the \"Reload animation frames\" button under the \"External data sources\" tab loads the most recent version of the trajectory file into Ovito._",
   "metadata": {
    "cell_id": "00051-bfe9323a-65c5-471c-8286-5935e58a34f9",
    "deepnote_cell_type": "markdown"
   }
  },
  {
   "cell_type": "markdown",
   "source": "\n__Change the simulation to alter the width and/or length of the initial notch, and run the simulation again. How does the critical strain change?__\n\n__Modify the program to create an empty void in the middle of the bar (which is another typical flaw found in metals), instead of the two notches. Observe the evolution of the shape of the bar and the void during the tension experiment. What happens to the volume of the void?__\n\n__Inspect the code to figure out how constraints are applied to the system (there is also documentation of this on the ASE homepage), and use it to model an inclusion in the middle of system by a block of rigid atoms whose positions are fixed throughout the simulation. How does this affect the dislocations?__",
   "metadata": {
    "cell_id": "00052-1d252dd6-624f-483b-b63a-34397f183294",
    "deepnote_cell_type": "markdown"
   }
  },
  {
   "cell_type": "markdown",
   "source": "\nIf you want to how a non-metal behaves under the same conditions, and you manage to install the [QUIP and quippy packages](https://github.com/libatoms/quip) (tested on MacOS and Linux), then you can run this [modified program](./files/run_si_bar_notch_2d_qs.py) that simulates the tension experiment on a model of silicon, rather than copper, leading to qualitatively different results... \n\nThe above simulations neglected the effect of temperature: only those processes happenned that were not hampered by an energy barrier. There are many small energy barriers in this system, and at finite temperature, given enough time, the system overcomes those barriers. You can simulate this effect by writing a program that integrates Newton's law of motion for the atoms using the velocity-Verlet algorithm and the forces on the atoms returned by the atomistic model. This is called *molecular dynamics*. Because atoms are light and the forces on the large, you need to use a time step on the order of 1 fs ($10^{-15}$ seconds, but be careful about the units of the atomic positions and the forces returned by ASE). In order to see something happenning in a reasonable time, it helps if you try rather high temperature!",
   "metadata": {
    "collapsed": true,
    "cell_id": "00053-0827b83e-c55d-42bd-b517-2230f31fa8ad",
    "deepnote_cell_type": "markdown"
   }
  },
  {
   "cell_type": "code",
   "metadata": {
    "collapsed": true,
    "trusted": false,
    "cell_id": "00054-691e854a-6fc2-4267-9310-1d5340b85ec6",
    "deepnote_to_be_reexecuted": true,
    "source_hash": "b623e53d",
    "deepnote_cell_type": "code"
   },
   "source": "",
   "execution_count": null,
   "outputs": []
  },
  {
   "cell_type": "markdown",
   "source": "<a style='text-decoration:none;line-height:16px;display:flex;color:#5B5B62;padding:10px;justify-content:end;' href='https://deepnote.com?utm_source=created-in-deepnote-cell&projectId=41763009-8bd5-4253-a31d-03dda3beeeb1' target=\"_blank\">\n<img alt='Created in deepnote.com' style='display:inline;max-height:16px;margin:0px;margin-right:7.5px;' src='data:image/svg+xml;base64,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' > </img>\nCreated in <span style='font-weight:600;margin-left:4px;'>Deepnote</span></a>",
   "metadata": {
    "tags": [],
    "created_in_deepnote_cell": true,
    "deepnote_cell_type": "markdown"
   }
  }
 ],
 "nbformat": 4,
 "nbformat_minor": 2,
 "metadata": {
  "kernelspec": {
   "name": "python2",
   "display_name": "Python 2",
   "language": "python"
  },
  "language_info": {
   "mimetype": "text/x-python",
   "nbconvert_exporter": "python",
   "name": "python",
   "pygments_lexer": "ipython2",
   "version": "2.7.15",
   "file_extension": ".py",
   "codemirror_mode": {
    "version": 2,
    "name": "ipython"
   }
  },
  "deepnote_notebook_id": "03e9d130-d856-4196-add2-df652f92bd9d",
  "deepnote_execution_queue": [],
  "deepnote": {}
 }
}